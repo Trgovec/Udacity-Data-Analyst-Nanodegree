{
 "cells": [
  {
   "cell_type": "markdown",
   "metadata": {},
   "source": [
    "## P3: Wrangle OpenStreetMap Data\n",
    "- Neo Xing, 2016/11\n",
    "- Data using preselected map of Beijing City in China"
   ]
  },
  {
   "cell_type": "markdown",
   "metadata": {},
   "source": [
    "## Data Preparation\n",
    "- Download a preselected metro area from [Map Zen](https://mapzen.com/data/metro-extracts/)\n",
    "- Extract sample data for investigation"
   ]
  },
  {
   "cell_type": "code",
   "execution_count": 140,
   "metadata": {
    "collapsed": false
   },
   "outputs": [],
   "source": [
    "import os\n",
    "import pandas as pd\n",
    "import numpy as np\n",
    "import sqlite3\n",
    "import matplotlib.pyplot as plt\n",
    "import seaborn as sns\n",
    "from IPython.display import display\n",
    "# utils for data audit and cleaning\n",
    "from utils import get_sample, process_map\n",
    "\n",
    "%matplotlib inline\n",
    "sns.set_style('whitegrid')\n",
    "plt.rcParams['figure.figsize'] = 10, 8\n",
    "\n",
    "DATA_DIR = os.path.join(os.getcwd(), 'data')"
   ]
  },
  {
   "cell_type": "code",
   "execution_count": 40,
   "metadata": {
    "collapsed": false
   },
   "outputs": [],
   "source": [
    "map_url = 'https://s3.amazonaws.com/metro-extracts.mapzen.com/beijing_china.osm.bz2'\n",
    "map_osm = 'beijing_china.osm'\n",
    "map_osm_sample = 'beijing_china_sample.osm'\n",
    "\n",
    "# for sample data\n",
    "#AUDIT = False\n",
    "#OSM_PATH = map_osm_sample\n",
    "\n",
    "# for map data\n",
    "AUDIT = True\n",
    "OSM_PATH = map_osm\n",
    "\n",
    "NODES_PATH = \"nodes.csv\"\n",
    "NODE_TAGS_PATH = \"nodes_tags.csv\"\n",
    "WAYS_PATH = \"ways.csv\"\n",
    "WAY_NODES_PATH = \"ways_nodes.csv\"\n",
    "WAY_TAGS_PATH = \"ways_tags.csv\"\n",
    "DB_PATH = 'map.db'"
   ]
  },
  {
   "cell_type": "code",
   "execution_count": 37,
   "metadata": {
    "collapsed": false
   },
   "outputs": [
    {
     "name": "stdout",
     "output_type": "stream",
     "text": [
      "157M\tbeijing_china.osm\r\n",
      " 16M\tbeijing_china_sample.osm\r\n"
     ]
    }
   ],
   "source": [
    "## prepare map data and sample data\n",
    "# download data\n",
    "if not os.path.isdir(DATA_DIR):\n",
    "    os.mkdir(DATA_DIR)\n",
    "os.chdir(DATA_DIR)\n",
    "map_bz2 = map_url.split('/')[-1]\n",
    "if not os.path.isfile(map_osm):\n",
    "    print \"Map data\", map_osm, \" not found\"\n",
    "    print \"downloading...\"\n",
    "    !wget $map_url\n",
    "    print \"Extracting ...\"\n",
    "    !bzip2 -d $map_bz2\n",
    "\n",
    "# sampling data\n",
    "if not os.path.isfile(map_osm_sample):\n",
    "    print \"Creating map sample data ...\"\n",
    "    get_sample(map_osm, map_osm_sample)\n",
    "\n",
    "# basic statistics\n",
    "!du -sh *osm"
   ]
  },
  {
   "cell_type": "code",
   "execution_count": 266,
   "metadata": {
    "collapsed": false
   },
   "outputs": [
    {
     "name": "stdout",
     "output_type": "stream",
     "text": [
      "<?xml version=\"1.0\" encoding=\"UTF-8\"?>\n",
      "<osm>\n",
      "  <node changeset=\"41734754\" id=\"25248662\" lat=\"39.9059631\" lon=\"116.391248\" timestamp=\"2016-08-27T12:19:21Z\" uid=\"4128818\" user=\"Malvolapukulo\" version=\"85\">\n",
      "\t\t<tag k=\"admin_level\" v=\"2\" />\n",
      "\t\t<tag k=\"alt_name:eo\" v=\"Bejĝino\" />\n",
      "\t\t<tag k=\"alt_name:fr\" v=\"Beijing\" />\n",
      "\t\t<tag k=\"alt_name:is\" v=\"Peking\" />\n",
      "\t\t<tag k=\"alt_name:sv\" v=\"Peking\" />\n",
      "\t\t<tag k=\"capital\" v=\"yes\" />\n",
      "\t\t<tag k=\"gns:ADM1\" v=\"22\" />\n",
      "\t\t<tag k=\"type\" v=\"multipolygon\" />\n",
      "\t</relation>\n",
      "\t<relation changeset=\"42018255\" id=\"6574579\" timestamp=\"2016-09-09T06:46:39Z\" uid=\"3683098\" user=\"suze8793686\" version=\"1\">\n",
      "\t\t<member ref=\"361015039\" role=\"outer\" type=\"way\" />\n",
      "\t\t<member ref=\"441566018\" role=\"outer\" type=\"way\" />\n",
      "\t\t<tag k=\"building\" v=\"commercial\" />\n",
      "\t\t<tag k=\"name\" v=\"科创大厦1\" />\n",
      "\t\t<tag k=\"type\" v=\"multipolygon\" />\n",
      "\t</relation>\n",
      "\t</osm>"
     ]
    }
   ],
   "source": [
    "# overview of `OSM` data\n",
    "!head $map_osm_sample\n",
    "!tail $map_osm_sample"
   ]
  },
  {
   "cell_type": "markdown",
   "metadata": {},
   "source": [
    "## Data Cleaning\n",
    "- We need to understand the map data before formal audit and cleaning.\n",
    "- To do that, we first sample the map data to get a small subset, then store it into `csv` for inspection.\n",
    "- After the problems are identified, the whole map dataset will be processed, auditted and imported into database."
   ]
  },
  {
   "cell_type": "markdown",
   "metadata": {},
   "source": [
    "### Parse Map Data\n",
    "- Thoroughly audit and clean dataset, converting it from `XML` to `CSV` format.\n",
    "- Then import the cleaned `.csv` files into a `SQL` database using custom schema."
   ]
  },
  {
   "cell_type": "code",
   "execution_count": 38,
   "metadata": {
    "collapsed": false
   },
   "outputs": [
    {
     "name": "stdout",
     "output_type": "stream",
     "text": [
      " 58M\tnodes.csv\r\n",
      "2.7M\tnodes_tags.csv\r\n",
      "6.1M\tways.csv\r\n",
      " 20M\tways_nodes.csv\r\n",
      "7.3M\tways_tags.csv\r\n"
     ]
    }
   ],
   "source": [
    "## parse and load map data to csv files\n",
    "if not os.path.isfile(NODES_PATH):\n",
    "    process_map(OSM_PATH, validate=True, audit=AUDIT)\n",
    "\n",
    "!du -sh *csv"
   ]
  },
  {
   "cell_type": "code",
   "execution_count": 80,
   "metadata": {
    "collapsed": false
   },
   "outputs": [],
   "source": [
    "nodes = pd.read_csv(NODES_PATH)\n",
    "node_tags = pd.read_csv(NODE_TAGS_PATH)\n",
    "ways = pd.read_csv(WAYS_PATH)\n",
    "way_nodes = pd.read_csv(WAY_NODES_PATH)\n",
    "way_tags = pd.read_csv(WAY_TAGS_PATH)"
   ]
  },
  {
   "cell_type": "code",
   "execution_count": 83,
   "metadata": {
    "collapsed": false,
    "scrolled": false
   },
   "outputs": [
    {
     "name": "stdout",
     "output_type": "stream",
     "text": [
      "nodes.csv\n"
     ]
    },
    {
     "data": {
      "text/html": [
       "<div>\n",
       "<table border=\"1\" class=\"dataframe\">\n",
       "  <thead>\n",
       "    <tr style=\"text-align: right;\">\n",
       "      <th></th>\n",
       "      <th>id</th>\n",
       "      <th>lat</th>\n",
       "      <th>lon</th>\n",
       "      <th>user</th>\n",
       "      <th>uid</th>\n",
       "      <th>version</th>\n",
       "      <th>changeset</th>\n",
       "      <th>timestamp</th>\n",
       "    </tr>\n",
       "  </thead>\n",
       "  <tbody>\n",
       "    <tr>\n",
       "      <th>0</th>\n",
       "      <td>25248662</td>\n",
       "      <td>39.905963</td>\n",
       "      <td>116.391248</td>\n",
       "      <td>Malvolapukulo</td>\n",
       "      <td>4128818</td>\n",
       "      <td>85</td>\n",
       "      <td>41734754</td>\n",
       "      <td>2016-08-27T12:19:21Z</td>\n",
       "    </tr>\n",
       "    <tr>\n",
       "      <th>1</th>\n",
       "      <td>25248785</td>\n",
       "      <td>39.906190</td>\n",
       "      <td>116.389457</td>\n",
       "      <td>4rch</td>\n",
       "      <td>1772211</td>\n",
       "      <td>12</td>\n",
       "      <td>27570508</td>\n",
       "      <td>2014-12-19T14:33:04Z</td>\n",
       "    </tr>\n",
       "  </tbody>\n",
       "</table>\n",
       "</div>"
      ],
      "text/plain": [
       "         id        lat         lon           user      uid  version  \\\n",
       "0  25248662  39.905963  116.391248  Malvolapukulo  4128818       85   \n",
       "1  25248785  39.906190  116.389457           4rch  1772211       12   \n",
       "\n",
       "   changeset             timestamp  \n",
       "0   41734754  2016-08-27T12:19:21Z  \n",
       "1   27570508  2014-12-19T14:33:04Z  "
      ]
     },
     "metadata": {},
     "output_type": "display_data"
    },
    {
     "name": "stdout",
     "output_type": "stream",
     "text": [
      "nodes_tags.csv\n"
     ]
    },
    {
     "data": {
      "text/html": [
       "<div>\n",
       "<table border=\"1\" class=\"dataframe\">\n",
       "  <thead>\n",
       "    <tr style=\"text-align: right;\">\n",
       "      <th></th>\n",
       "      <th>id</th>\n",
       "      <th>key</th>\n",
       "      <th>value</th>\n",
       "      <th>type</th>\n",
       "    </tr>\n",
       "  </thead>\n",
       "  <tbody>\n",
       "    <tr>\n",
       "      <th>0</th>\n",
       "      <td>25248662</td>\n",
       "      <td>admin_level</td>\n",
       "      <td>2</td>\n",
       "      <td>regular</td>\n",
       "    </tr>\n",
       "    <tr>\n",
       "      <th>1</th>\n",
       "      <td>25248662</td>\n",
       "      <td>eo</td>\n",
       "      <td>Bejĝino</td>\n",
       "      <td>alt_name</td>\n",
       "    </tr>\n",
       "  </tbody>\n",
       "</table>\n",
       "</div>"
      ],
      "text/plain": [
       "         id          key    value      type\n",
       "0  25248662  admin_level        2   regular\n",
       "1  25248662           eo  Bejĝino  alt_name"
      ]
     },
     "metadata": {},
     "output_type": "display_data"
    },
    {
     "name": "stdout",
     "output_type": "stream",
     "text": [
      "ways.csv\n"
     ]
    },
    {
     "data": {
      "text/html": [
       "<div>\n",
       "<table border=\"1\" class=\"dataframe\">\n",
       "  <thead>\n",
       "    <tr style=\"text-align: right;\">\n",
       "      <th></th>\n",
       "      <th>id</th>\n",
       "      <th>user</th>\n",
       "      <th>uid</th>\n",
       "      <th>version</th>\n",
       "      <th>changeset</th>\n",
       "      <th>timestamp</th>\n",
       "    </tr>\n",
       "  </thead>\n",
       "  <tbody>\n",
       "    <tr>\n",
       "      <th>0</th>\n",
       "      <td>4231222</td>\n",
       "      <td>hanchao</td>\n",
       "      <td>499500</td>\n",
       "      <td>18</td>\n",
       "      <td>24718546</td>\n",
       "      <td>2014-08-13T08:58:19Z</td>\n",
       "    </tr>\n",
       "    <tr>\n",
       "      <th>1</th>\n",
       "      <td>4231223</td>\n",
       "      <td>hanchao</td>\n",
       "      <td>499500</td>\n",
       "      <td>23</td>\n",
       "      <td>24718546</td>\n",
       "      <td>2014-08-13T08:58:19Z</td>\n",
       "    </tr>\n",
       "  </tbody>\n",
       "</table>\n",
       "</div>"
      ],
      "text/plain": [
       "        id     user     uid  version  changeset             timestamp\n",
       "0  4231222  hanchao  499500       18   24718546  2014-08-13T08:58:19Z\n",
       "1  4231223  hanchao  499500       23   24718546  2014-08-13T08:58:19Z"
      ]
     },
     "metadata": {},
     "output_type": "display_data"
    },
    {
     "name": "stdout",
     "output_type": "stream",
     "text": [
      "ways_nodes.csv\n"
     ]
    },
    {
     "data": {
      "text/html": [
       "<div>\n",
       "<table border=\"1\" class=\"dataframe\">\n",
       "  <thead>\n",
       "    <tr style=\"text-align: right;\">\n",
       "      <th></th>\n",
       "      <th>id</th>\n",
       "      <th>node_id</th>\n",
       "      <th>position</th>\n",
       "    </tr>\n",
       "  </thead>\n",
       "  <tbody>\n",
       "    <tr>\n",
       "      <th>0</th>\n",
       "      <td>4231222</td>\n",
       "      <td>25248785</td>\n",
       "      <td>0</td>\n",
       "    </tr>\n",
       "    <tr>\n",
       "      <th>1</th>\n",
       "      <td>4231222</td>\n",
       "      <td>330841128</td>\n",
       "      <td>1</td>\n",
       "    </tr>\n",
       "  </tbody>\n",
       "</table>\n",
       "</div>"
      ],
      "text/plain": [
       "        id    node_id  position\n",
       "0  4231222   25248785         0\n",
       "1  4231222  330841128         1"
      ]
     },
     "metadata": {},
     "output_type": "display_data"
    },
    {
     "name": "stdout",
     "output_type": "stream",
     "text": [
      "ways_tags.csv\n"
     ]
    },
    {
     "data": {
      "text/html": [
       "<div>\n",
       "<table border=\"1\" class=\"dataframe\">\n",
       "  <thead>\n",
       "    <tr style=\"text-align: right;\">\n",
       "      <th></th>\n",
       "      <th>id</th>\n",
       "      <th>key</th>\n",
       "      <th>value</th>\n",
       "      <th>type</th>\n",
       "    </tr>\n",
       "  </thead>\n",
       "  <tbody>\n",
       "    <tr>\n",
       "      <th>0</th>\n",
       "      <td>4231222</td>\n",
       "      <td>name</td>\n",
       "      <td>广场西侧路</td>\n",
       "      <td>regular</td>\n",
       "    </tr>\n",
       "    <tr>\n",
       "      <th>1</th>\n",
       "      <td>4231222</td>\n",
       "      <td>oneway</td>\n",
       "      <td>yes</td>\n",
       "      <td>regular</td>\n",
       "    </tr>\n",
       "  </tbody>\n",
       "</table>\n",
       "</div>"
      ],
      "text/plain": [
       "        id     key  value     type\n",
       "0  4231222    name  广场西侧路  regular\n",
       "1  4231222  oneway    yes  regular"
      ]
     },
     "metadata": {},
     "output_type": "display_data"
    }
   ],
   "source": [
    "for df, fn in zip((nodes, node_tags, ways, way_nodes, way_tags),\n",
    "                  (NODES_PATH, NODE_TAGS_PATH, WAYS_PATH, WAY_NODES_PATH, WAY_TAGS_PATH)):\n",
    "    print fn\n",
    "    display(df.head(2))"
   ]
  },
  {
   "cell_type": "markdown",
   "metadata": {},
   "source": [
    "### Problems Encountered\n",
    "\n",
    "- Data `node_tags, way_tags` of sample map has been inspected mostly by mannual to identify errors.\n",
    "- The following is analysis of error types and strategy for audit and cleaning.\n",
    "- Data has been validated for **completeness** and **consistency** when written to `csv` files.\n",
    "- Data `nodes, ways and way_nodes` contains standard values such as `id`, `timestamp` that are generated by machine, and validated when created as `csv` files.\n",
    "\n",
    "\n",
    "\n",
    "#### Accuracy Error\n",
    "- Type: error data, marked as **to be fixed**\n",
    "- Strategy: it will be dropped as it can not be trusted or used\n",
    "- Example\n",
    "``` \n",
    "#Row     id      key                  value                              type\n",
    "3114 1942976252\tFIXME\testimated position. re-log from GPS next time\tregular\t\t\n",
    "3158 1953735342\tFIXME\tOr no?\tregular\t\t\n",
    "6393 3363489803\tfixme\tposition of this station may be inaccurate\tregular\t\n",
    "```\n",
    "\n",
    "#### Uniformity Error\n",
    "- Type: inconsistency of **phone number format**\n",
    "- Strategy: it will converted to uniformed format `+country_number-phone_number`\n",
    "- Example\n",
    "```\n",
    "6176 3116216486\tphone\t+86 13681462440\tregular\t\t\n",
    "7293 4253188917\tphone\t+86-10-84018039\tregular\t\t\t\n",
    "7078 3809864708\tphone\t1067112480\tregular\t\t\n",
    "```\n",
    "\n",
    "- Type: inconsistency of **address format**\n",
    "- Strategy: abbreviation will be \n",
    "- Example\n",
    "```\n",
    "1237 33803488\ten\tS. Yuyuantian Rd\tname\n",
    "1822 42709486\ten\tSanlitun East 2nd St\tname\n",
    "1835 42725731\ten\tYongding Rd.\tname\n",
    "1872 42746577\ten\t5th Ring road\tname\n",
    "1230 33681029\ten\tANDINGMEN DONGDAJIE\tname\n",
    "```\n",
    "\n",
    "- Type: inconsistency of **locales** due to multilanguages\n",
    "- Strategy: unchanged due to lack of general algorithms and application context to decide what information is useful\n",
    "- Example\n",
    "```\n",
    "7311 4264013095\tcuisine\tbeef_bowl;chinese;ramen;breakfast\tregular\n",
    "644 529665397\tname\t獬豸 Imperial Garden\tregular\n",
    "4034 106615225\tname\t青河路 (Qīnghé lù)\tregular\n",
    "6723 3574054411\tname\t6號安檢門\tregular\t\t\n",
    "6727 3574841294\tname\t21\tregular\t\t\n",
    "7474 4396950489\tname\t자금성 지나서 지하철 역 가는길\tregular\n",
    "```\n",
    "\n",
    "- Type: inconsistency of **date/time**\n",
    "- Strategy: unchanged due to lack of application context, more data keys such as `open_month, open_day, ...` can be added in future\n",
    "- Example\n",
    "```\n",
    "1596 1422005598\topening_hours\tMo-Su 05:00-23:00; Apr 1-Oct 31 05:00-24:00\tregular\t\n",
    "3091 1938345234\topening_hours\t24/7\tregular\t\t\n",
    "6183 3116216486\topening_hours\t10am - 11pm\tregular\n",
    "```\n"
   ]
  },
  {
   "cell_type": "markdown",
   "metadata": {},
   "source": [
    "### Audit and Cleaning\n",
    "- Based on previous investigation, we will audit and clean three types of error in data `node_tags` and `way_tags`."
   ]
  },
  {
   "cell_type": "markdown",
   "metadata": {},
   "source": [
    "#### Audit `FIXME`\n",
    "- Drop elements marked with `key == FIXME` or `key == fixme`"
   ]
  },
  {
   "cell_type": "code",
   "execution_count": 28,
   "metadata": {
    "collapsed": false
   },
   "outputs": [
    {
     "data": {
      "text/html": [
       "<div>\n",
       "<table border=\"1\" class=\"dataframe\">\n",
       "  <thead>\n",
       "    <tr style=\"text-align: right;\">\n",
       "      <th></th>\n",
       "      <th>id</th>\n",
       "      <th>key</th>\n",
       "      <th>value</th>\n",
       "      <th>type</th>\n",
       "    </tr>\n",
       "  </thead>\n",
       "  <tbody>\n",
       "    <tr>\n",
       "      <th>727</th>\n",
       "      <td>604778475</td>\n",
       "      <td>FIXME</td>\n",
       "      <td>check ref</td>\n",
       "      <td>regular</td>\n",
       "    </tr>\n",
       "    <tr>\n",
       "      <th>970</th>\n",
       "      <td>1037727486</td>\n",
       "      <td>FIXME</td>\n",
       "      <td>Possibly a tower</td>\n",
       "      <td>regular</td>\n",
       "    </tr>\n",
       "    <tr>\n",
       "      <th>972</th>\n",
       "      <td>1037750228</td>\n",
       "      <td>FIXME</td>\n",
       "      <td>Possibly a tower</td>\n",
       "      <td>regular</td>\n",
       "    </tr>\n",
       "    <tr>\n",
       "      <th>974</th>\n",
       "      <td>1037750257</td>\n",
       "      <td>FIXME</td>\n",
       "      <td>Possibly a tower</td>\n",
       "      <td>regular</td>\n",
       "    </tr>\n",
       "    <tr>\n",
       "      <th>978</th>\n",
       "      <td>1037790874</td>\n",
       "      <td>FIXME</td>\n",
       "      <td>Or no?</td>\n",
       "      <td>regular</td>\n",
       "    </tr>\n",
       "  </tbody>\n",
       "</table>\n",
       "</div>"
      ],
      "text/plain": [
       "             id    key             value     type\n",
       "727   604778475  FIXME         check ref  regular\n",
       "970  1037727486  FIXME  Possibly a tower  regular\n",
       "972  1037750228  FIXME  Possibly a tower  regular\n",
       "974  1037750257  FIXME  Possibly a tower  regular\n",
       "978  1037790874  FIXME            Or no?  regular"
      ]
     },
     "metadata": {},
     "output_type": "display_data"
    }
   ],
   "source": [
    "display(node_tags[(node_tags['key']=='fixme') | (node_tags['key']=='FIXME')].head())\n",
    "#display(way_tags[(way_tags['key']=='fixme') | (way_tags['key']=='FIXME')].head())"
   ]
  },
  {
   "cell_type": "markdown",
   "metadata": {},
   "source": [
    "#### Audit `phone`\n",
    "- Convert phone numbers to uniformed formats of `+CountryCode-AreaCode-LandLine` or `+CountryCode-CellPhone`.\n",
    "- Invalid phone number will be marked with prefix `N/A`."
   ]
  },
  {
   "cell_type": "code",
   "execution_count": 29,
   "metadata": {
    "collapsed": false,
    "scrolled": false
   },
   "outputs": [
    {
     "data": {
      "text/html": [
       "<div>\n",
       "<table border=\"1\" class=\"dataframe\">\n",
       "  <thead>\n",
       "    <tr style=\"text-align: right;\">\n",
       "      <th></th>\n",
       "      <th>id</th>\n",
       "      <th>key</th>\n",
       "      <th>value</th>\n",
       "      <th>type</th>\n",
       "    </tr>\n",
       "  </thead>\n",
       "  <tbody>\n",
       "    <tr>\n",
       "      <th>722</th>\n",
       "      <td>600265656</td>\n",
       "      <td>phone</td>\n",
       "      <td>(010)64629112</td>\n",
       "      <td>regular</td>\n",
       "    </tr>\n",
       "    <tr>\n",
       "      <th>1589</th>\n",
       "      <td>1422005598</td>\n",
       "      <td>phone</td>\n",
       "      <td>68716285;62555813</td>\n",
       "      <td>regular</td>\n",
       "    </tr>\n",
       "    <tr>\n",
       "      <th>6174</th>\n",
       "      <td>3116216486</td>\n",
       "      <td>phone</td>\n",
       "      <td>+86 13681462440</td>\n",
       "      <td>regular</td>\n",
       "    </tr>\n",
       "    <tr>\n",
       "      <th>7076</th>\n",
       "      <td>3809864708</td>\n",
       "      <td>phone</td>\n",
       "      <td>01067112480</td>\n",
       "      <td>regular</td>\n",
       "    </tr>\n",
       "    <tr>\n",
       "      <th>7291</th>\n",
       "      <td>4253188917</td>\n",
       "      <td>phone</td>\n",
       "      <td>+86-10-84018039</td>\n",
       "      <td>regular</td>\n",
       "    </tr>\n",
       "  </tbody>\n",
       "</table>\n",
       "</div>"
      ],
      "text/plain": [
       "              id    key              value     type\n",
       "722    600265656  phone      (010)64629112  regular\n",
       "1589  1422005598  phone  68716285;62555813  regular\n",
       "6174  3116216486  phone    +86 13681462440  regular\n",
       "7076  3809864708  phone        01067112480  regular\n",
       "7291  4253188917  phone    +86-10-84018039  regular"
      ]
     },
     "metadata": {},
     "output_type": "display_data"
    }
   ],
   "source": [
    "# investigate phone numbers\n",
    "display(node_tags[node_tags['key']=='phone'].head())\n",
    "#display(way_tags[way_tags['key']=='phone'].head())"
   ]
  },
  {
   "cell_type": "code",
   "execution_count": 30,
   "metadata": {
    "collapsed": false
   },
   "outputs": [],
   "source": [
    "import re\n",
    "\n",
    "PHONE_CC = '86'\n",
    "PHONE_AC = '10'\n",
    "PHONE_LANDLINE = 8\n",
    "\n",
    "phone_re = re.compile(r'\\D*(?P<cc>%s)?\\D*(?P<ac>%s|%s)?\\D*(?P<lc>\\d{8,})' % (PHONE_AC, r'0'+PHONE_AC, PHONE_AC))\n",
    "    \n",
    "def format_phonenumber(pn):\n",
    "    '''\n",
    "    Return formatted phone number, marked with 'N/A' if it's invalid.\n",
    "    '''\n",
    "    result = phone_re.search(pn)\n",
    "    # invalid\n",
    "    if not result:\n",
    "        return 'N/A ' + pn\n",
    "    lc = result.group('lc')\n",
    "    nlc = len(lc)\n",
    "    # invalid\n",
    "    if nlc < PHONE_LANDLINE:\n",
    "        return 'N/A ' + pn\n",
    "    # cell phone, no area code\n",
    "    elif nlc > PHONE_LANDLINE:\n",
    "        return '+{}-{}'.format(PHONE_CC, lc)\n",
    "    # landline, add area code\n",
    "    else:\n",
    "        return '+{}-{}{}'.format(PHONE_CC, PHONE_AC, lc)\n",
    "    \n",
    "def update_phone(phone):\n",
    "    '''\n",
    "    Update phone entry with uniformed format.\n",
    "    phone can be multiple values concatenated with ';' like `68716285;62555813`\n",
    "    '''\n",
    "    return ';'.join([format_phonenumber(pn) for pn in phone.split(';')])"
   ]
  },
  {
   "cell_type": "code",
   "execution_count": 31,
   "metadata": {
    "collapsed": false,
    "scrolled": false
   },
   "outputs": [
    {
     "name": "stdout",
     "output_type": "stream",
     "text": [
      "(010)64629112       +86-1064629112\n",
      "68716285;62555813   +86-1068716285;+86-1062555813\n",
      "+86 13681462440     +86-13681462440\n",
      "01067112480         +86-1067112480\n",
      "+86-10-84018039     +86-1084018039\n",
      "01058757888         +86-1058757888\n",
      "01067630572         +86-1067630572\n",
      "01067113100         +86-1067113100\n",
      "64007868            +86-1064007868\n"
     ]
    }
   ],
   "source": [
    "# verify audit of phone\n",
    "phones = node_tags[node_tags['key']=='phone']['value'].values\n",
    "for pn in phones:\n",
    "    print '{:20}{}'.format(pn, update_phone(pn))"
   ]
  },
  {
   "cell_type": "markdown",
   "metadata": {},
   "source": [
    "#### Audit `name` and `addr`\n",
    "- Format the name and address consists of English letters.\n",
    "- It'll be capitalized first, then any abbreviation will be replaced with words."
   ]
  },
  {
   "cell_type": "code",
   "execution_count": 32,
   "metadata": {
    "collapsed": false
   },
   "outputs": [],
   "source": [
    "mapping = {'Rd':'Road',\n",
    "          'St':'Street',\n",
    "          'Str':'Street',\n",
    "          'E':'East',\n",
    "          'W':'West',\n",
    "          'N':'North',\n",
    "          'S':'South',\n",
    "          'Ave':'Avenue',\n",
    "          'Dr':'Drive',\n",
    "          'Bldg':'Building',\n",
    "          'Pky':'Parkway'}\n",
    "\n",
    "# expand abbrevation to inlcude '.'\n",
    "mapping.update({str(k)+'.':v for k,v in mapping.items()})\n",
    "# match 'N.' first, then 'N'\n",
    "addr_keys = sorted(mapping.keys(), reverse=True)\n",
    "addr_re = re.compile(r'\\b(?P<abbre>' + r'|'.join([re.escape(k) for k in addr_keys]) + r')(?:\\s+|$)')\n",
    "\n",
    "def is_abbre_addr(addr):\n",
    "    return addr_re.match(addr.title()) != None\n",
    "\n",
    "def update_address(addr):\n",
    "    # x.group returns 'N. ' for sub, need to mannually add space and then strip\n",
    "    new_addr = addr_re.sub(lambda x: mapping[x.group('abbre')] + ' ', addr.title())\n",
    "    return new_addr.strip()"
   ]
  },
  {
   "cell_type": "code",
   "execution_count": 33,
   "metadata": {
    "collapsed": false
   },
   "outputs": [
    {
     "name": "stdout",
     "output_type": "stream",
     "text": [
      "W. Yunlin Rd                  West Yunlin Road\n",
      "N. Chaoyang Rd                North Chaoyang Road\n",
      "N. Xisi 8th Alley             North Xisi 8Th Alley\n",
      "W. Zhushikou Str              West Zhushikou Street\n",
      "S. Yuyuantian Rd              South Yuyuantian Road\n",
      "N. Donghuashi Str             North Donghuashi Street\n",
      "W. Enji Str                   West Enji Street\n",
      "E. Yangfandian Rd             East Yangfandian Road\n",
      "N. Yuetan Str                 North Yuetan Street\n",
      "E. Caoqiao Rd                 East Caoqiao Road\n",
      "N. Minzhu Str                 North Minzhu Street\n",
      "N. Chaoyang Rd                North Chaoyang Road\n",
      "N. Nongzhanguan Rd            North Nongzhanguan Road\n",
      "W. Military Museum Rd         West Military Museum Road\n",
      "N. Chaoyangmen                North Chaoyangmen\n",
      "E. Xinglong Str               East Xinglong Street\n",
      "S. Gexin Rd                   South Gexin Road\n",
      "E. Chongwenmen Str            East Chongwenmen Street\n",
      "W. Chaoyang Rd                West Chaoyang Road\n",
      "N. Chaoyang Rd                North Chaoyang Road\n",
      "W. Qianhai Str                West Qianhai Street\n"
     ]
    }
   ],
   "source": [
    "# verify audit of address\n",
    "#nodes_name = node_tags[(node_tags['type'] == 'addr') & (node_tags['key'] == 'street') | (node_tags['key'] == 'en')]\n",
    "ways_name = way_tags[(way_tags['type'] == 'addr') & (way_tags['key'] == 'street') | (way_tags['key'] == 'en')]\n",
    "\n",
    "for addr in ways_name['value'].values:\n",
    "    if is_abbre_addr(addr):\n",
    "        print '{:30}{}'.format(addr, update_address(addr))"
   ]
  },
  {
   "cell_type": "markdown",
   "metadata": {
    "collapsed": true
   },
   "source": [
    "### Create Database\n",
    "- Apply data convertion, audit, and cleaning to whole map data.\n",
    "- Create database by importing from `csv` files."
   ]
  },
  {
   "cell_type": "code",
   "execution_count": 44,
   "metadata": {
    "collapsed": false
   },
   "outputs": [
    {
     "name": "stdout",
     "output_type": "stream",
     "text": [
      " 81M\tmap.db\r\n"
     ]
    }
   ],
   "source": [
    "if not os.path.isfile(DB_PATH):\n",
    "    !sqlite3 $DB_PATH < initdb.sql\n",
    "!du -sh *db"
   ]
  },
  {
   "cell_type": "code",
   "execution_count": 122,
   "metadata": {
    "collapsed": true
   },
   "outputs": [],
   "source": [
    "# query tools\n",
    "def query_data(cursor, query):\n",
    "    '''Return a tuple of rows, flat rows consist of only one element.'''\n",
    "    cursor.execute(query)\n",
    "    rows = []\n",
    "    while True:\n",
    "        row = cursor.fetchone()\n",
    "        if not row:\n",
    "            break\n",
    "        if len(row) == 1:\n",
    "            rows.append(row[0])\n",
    "        else:\n",
    "            rows.append(row)\n",
    "    return rows\n",
    "def query_df(cursor, query):\n",
    "    '''Return pandas dataframe of query data.'''\n",
    "    rows = query_data(cursor, query)\n",
    "    columns = [t[0] for t in cursor.description]\n",
    "    df = pd.DataFrame(rows, columns=columns)\n",
    "    return df"
   ]
  },
  {
   "cell_type": "code",
   "execution_count": 89,
   "metadata": {
    "collapsed": true
   },
   "outputs": [],
   "source": [
    "db = sqlite3.connect(DB_PATH)\n",
    "cur = db.cursor()"
   ]
  },
  {
   "cell_type": "code",
   "execution_count": 79,
   "metadata": {
    "collapsed": false,
    "scrolled": false
   },
   "outputs": [
    {
     "name": "stdout",
     "output_type": "stream",
     "text": [
      "Table        Count\n",
      "nodes        741822\n",
      "nodes_tags   75657\n",
      "ways         109348\n",
      "ways_tags    223173\n",
      "ways_nodes   885409\n"
     ]
    }
   ],
   "source": [
    "# show tables and count\n",
    "print \"Table        Count\"\n",
    "tables = query_data(cur, \"SELECT name FROM sqlite_master WHERE type='table'\")\n",
    "for t in tables:\n",
    "    q = \"select count(*) from {};\".format(t)\n",
    "    count = query_data(cur, q)[0]\n",
    "    print '{:12} {}'.format(t, count)"
   ]
  },
  {
   "cell_type": "markdown",
   "metadata": {},
   "source": [
    "## Data Exploration\n",
    "- We will explore map data via answering some questions."
   ]
  },
  {
   "cell_type": "markdown",
   "metadata": {},
   "source": [
    "### Map Data\n",
    "#### 1. What are the popular attributes of nodes and ways?\n",
    "- Most of the top tags belong to public transportation system, that's true for super city like Beijing."
   ]
  },
  {
   "cell_type": "code",
   "execution_count": 195,
   "metadata": {
    "collapsed": false,
    "scrolled": false
   },
   "outputs": [
    {
     "name": "stdout",
     "output_type": "stream",
     "text": [
      "Top 10 key in table nodes_tags\n",
      "power highway name public_transport source amenity railway barrier en shop \n",
      "Top 10 key in table ways_tags\n",
      "highway building oneway name layer bridge railway source en lanes \n"
     ]
    },
    {
     "data": {
      "image/png": "[encoded data removed]",
      "text/plain": [
       "<matplotlib.figure.Figure at 0x1237ccbd0>"
      ]
     },
     "metadata": {},
     "output_type": "display_data"
    },
    {
     "data": {
      "image/png": "[encoded data removed]",
      "text/plain": [
       "<matplotlib.figure.Figure at 0x124a93a10>"
      ]
     },
     "metadata": {},
     "output_type": "display_data"
    }
   ],
   "source": [
    "# group by key and then sort by its count\n",
    "def top_column(cursor, table, key, limit=10):\n",
    "    q = 'select {}, count(*) as count from {} group by {} order by count(*) desc limit {};'.format(\n",
    "        key, table, key, limit)\n",
    "    top = query_df(cur, q)\n",
    "    title = 'Top {} {} in table {}'.format(limit, key, table)\n",
    "    ax = top.plot.barh()\n",
    "    ax.set_title(title, fontsize=20)\n",
    "    xticks = top[key].str.decode('utf-8')\n",
    "    ax.set_yticklabels(xticks, rotation='horizontal', fontsize=15)\n",
    "    #ax.set_ylabel(key, fontsize=15)\n",
    "    print title\n",
    "    for k in top[key].values:\n",
    "        print k,\n",
    "    print \"\"\n",
    "    return top\n",
    "\n",
    "top_nodes_key = top_column(cur, 'nodes_tags', 'key', 10)\n",
    "top_ways_key = top_column(cur, 'ways_tags', 'key', 10)"
   ]
  },
  {
   "cell_type": "markdown",
   "metadata": {},
   "source": [
    "#### 2. What are the most \"busy\" nodes -- nodes that appear on many roads?\n",
    "- Most busy nodes are traffic signals on highway, which makes sense.\n",
    "- Note that 5&6, 7&8 are very close, probably because they belong to the same zone with heavy traffic.\n",
    "- There are also three nodes that don't have valid entry in nodes_tags."
   ]
  },
  {
   "cell_type": "code",
   "execution_count": 264,
   "metadata": {
    "collapsed": false
   },
   "outputs": [
    {
     "name": "stdout",
     "output_type": "stream",
     "text": [
      "Top 10 busy nodes by number of ways crossing it\n"
     ]
    },
    {
     "data": {
      "text/html": [
       "<div>\n",
       "<table border=\"1\" class=\"dataframe\">\n",
       "  <thead>\n",
       "    <tr style=\"text-align: right;\">\n",
       "      <th></th>\n",
       "      <th>id</th>\n",
       "      <th>lat</th>\n",
       "      <th>lon</th>\n",
       "      <th>count</th>\n",
       "      <th>value</th>\n",
       "      <th>key</th>\n",
       "      <th>type</th>\n",
       "    </tr>\n",
       "  </thead>\n",
       "  <tbody>\n",
       "    <tr>\n",
       "      <th>0</th>\n",
       "      <td>539259997</td>\n",
       "      <td>39.859272</td>\n",
       "      <td>116.368089</td>\n",
       "      <td>10</td>\n",
       "      <td>None</td>\n",
       "      <td>None</td>\n",
       "      <td>None</td>\n",
       "    </tr>\n",
       "    <tr>\n",
       "      <th>1</th>\n",
       "      <td>4134141099</td>\n",
       "      <td>39.520044</td>\n",
       "      <td>116.698067</td>\n",
       "      <td>10</td>\n",
       "      <td>None</td>\n",
       "      <td>None</td>\n",
       "      <td>None</td>\n",
       "    </tr>\n",
       "    <tr>\n",
       "      <th>2</th>\n",
       "      <td>331148077</td>\n",
       "      <td>39.931026</td>\n",
       "      <td>116.337912</td>\n",
       "      <td>8</td>\n",
       "      <td>traffic_signals</td>\n",
       "      <td>highway</td>\n",
       "      <td>regular</td>\n",
       "    </tr>\n",
       "    <tr>\n",
       "      <th>3</th>\n",
       "      <td>353122271</td>\n",
       "      <td>40.001944</td>\n",
       "      <td>116.559919</td>\n",
       "      <td>8</td>\n",
       "      <td>traffic_signals</td>\n",
       "      <td>highway</td>\n",
       "      <td>regular</td>\n",
       "    </tr>\n",
       "    <tr>\n",
       "      <th>4</th>\n",
       "      <td>1056760423</td>\n",
       "      <td>39.871066</td>\n",
       "      <td>116.390171</td>\n",
       "      <td>8</td>\n",
       "      <td>None</td>\n",
       "      <td>None</td>\n",
       "      <td>None</td>\n",
       "    </tr>\n",
       "    <tr>\n",
       "      <th>5</th>\n",
       "      <td>76457684</td>\n",
       "      <td>39.922888</td>\n",
       "      <td>116.404614</td>\n",
       "      <td>7</td>\n",
       "      <td>traffic_signals</td>\n",
       "      <td>highway</td>\n",
       "      <td>regular</td>\n",
       "    </tr>\n",
       "    <tr>\n",
       "      <th>6</th>\n",
       "      <td>252853378</td>\n",
       "      <td>39.922563</td>\n",
       "      <td>116.367267</td>\n",
       "      <td>7</td>\n",
       "      <td>traffic_signals</td>\n",
       "      <td>highway</td>\n",
       "      <td>regular</td>\n",
       "    </tr>\n",
       "    <tr>\n",
       "      <th>7</th>\n",
       "      <td>256832892</td>\n",
       "      <td>40.026129</td>\n",
       "      <td>116.547960</td>\n",
       "      <td>7</td>\n",
       "      <td>traffic_signals</td>\n",
       "      <td>highway</td>\n",
       "      <td>regular</td>\n",
       "    </tr>\n",
       "    <tr>\n",
       "      <th>8</th>\n",
       "      <td>292591437</td>\n",
       "      <td>40.020908</td>\n",
       "      <td>116.345900</td>\n",
       "      <td>7</td>\n",
       "      <td>traffic_signals</td>\n",
       "      <td>highway</td>\n",
       "      <td>regular</td>\n",
       "    </tr>\n",
       "    <tr>\n",
       "      <th>9</th>\n",
       "      <td>511980200</td>\n",
       "      <td>39.980453</td>\n",
       "      <td>116.359484</td>\n",
       "      <td>7</td>\n",
       "      <td>traffic_signals</td>\n",
       "      <td>highway</td>\n",
       "      <td>regular</td>\n",
       "    </tr>\n",
       "  </tbody>\n",
       "</table>\n",
       "</div>"
      ],
      "text/plain": [
       "           id        lat         lon  count            value      key     type\n",
       "0   539259997  39.859272  116.368089     10             None     None     None\n",
       "1  4134141099  39.520044  116.698067     10             None     None     None\n",
       "2   331148077  39.931026  116.337912      8  traffic_signals  highway  regular\n",
       "3   353122271  40.001944  116.559919      8  traffic_signals  highway  regular\n",
       "4  1056760423  39.871066  116.390171      8             None     None     None\n",
       "5    76457684  39.922888  116.404614      7  traffic_signals  highway  regular\n",
       "6   252853378  39.922563  116.367267      7  traffic_signals  highway  regular\n",
       "7   256832892  40.026129  116.547960      7  traffic_signals  highway  regular\n",
       "8   292591437  40.020908  116.345900      7  traffic_signals  highway  regular\n",
       "9   511980200  39.980453  116.359484      7  traffic_signals  highway  regular"
      ]
     },
     "metadata": {},
     "output_type": "display_data"
    }
   ],
   "source": [
    "# first find the top 10 busy nodes by ways_nodes inner join nodes\n",
    "# then apply left join to add info in nodes_tags\n",
    "q = '''\n",
    "select top.*, nodes_tags.value, nodes_tags.key, nodes_tags.type from \n",
    "    (select nodes.id, nodes.lat, nodes.lon, count(*) as count\n",
    "        from ways_nodes \n",
    "        left join nodes\n",
    "        on nodes.id = ways_nodes.node_id\n",
    "        group by ways_nodes.node_id\n",
    "        order by count desc\n",
    "        limit 10) as top\n",
    "    left join nodes_tags\n",
    "    on nodes_tags.id = top.id\n",
    "'''\n",
    "top_nodes = query_df(cur, q)\n",
    "print \"Top 10 busy nodes by number of ways crossing it\"\n",
    "display(top_nodes)"
   ]
  },
  {
   "cell_type": "markdown",
   "metadata": {},
   "source": [
    "#### 3. What are the \"longest\" ways -- roads that cross most nodes?\n",
    "- The longest roads are mainly national highways (#1, #3, #8) and tourist trips (#4, #6, #7).\n",
    "- For simplicity, the definition of longest way is by number of nodes instead of distance."
   ]
  },
  {
   "cell_type": "code",
   "execution_count": 263,
   "metadata": {
    "collapsed": false,
    "scrolled": true
   },
   "outputs": [
    {
     "name": "stdout",
     "output_type": "stream",
     "text": [
      "Top 10 longest way by number of nodes\n"
     ]
    },
    {
     "data": {
      "text/html": [
       "<div>\n",
       "<table border=\"1\" class=\"dataframe\">\n",
       "  <thead>\n",
       "    <tr style=\"text-align: right;\">\n",
       "      <th></th>\n",
       "      <th>id</th>\n",
       "      <th>key</th>\n",
       "      <th>value</th>\n",
       "      <th>type</th>\n",
       "      <th>count</th>\n",
       "    </tr>\n",
       "  </thead>\n",
       "  <tbody>\n",
       "    <tr>\n",
       "      <th>0</th>\n",
       "      <td>252721309</td>\n",
       "      <td>name</td>\n",
       "      <td>昌赤路</td>\n",
       "      <td>regular</td>\n",
       "      <td>886</td>\n",
       "    </tr>\n",
       "    <tr>\n",
       "      <th>1</th>\n",
       "      <td>325387039</td>\n",
       "      <td>name</td>\n",
       "      <td>109国道</td>\n",
       "      <td>regular</td>\n",
       "      <td>876</td>\n",
       "    </tr>\n",
       "    <tr>\n",
       "      <th>2</th>\n",
       "      <td>332284197</td>\n",
       "      <td>name</td>\n",
       "      <td>潭王路</td>\n",
       "      <td>regular</td>\n",
       "      <td>722</td>\n",
       "    </tr>\n",
       "    <tr>\n",
       "      <th>3</th>\n",
       "      <td>95513225</td>\n",
       "      <td>name</td>\n",
       "      <td>Y709</td>\n",
       "      <td>regular</td>\n",
       "      <td>706</td>\n",
       "    </tr>\n",
       "    <tr>\n",
       "      <th>4</th>\n",
       "      <td>162162040</td>\n",
       "      <td>name</td>\n",
       "      <td>科普探秘游</td>\n",
       "      <td>regular</td>\n",
       "      <td>616</td>\n",
       "    </tr>\n",
       "    <tr>\n",
       "      <th>5</th>\n",
       "      <td>210697460</td>\n",
       "      <td>name</td>\n",
       "      <td>红大路</td>\n",
       "      <td>regular</td>\n",
       "      <td>562</td>\n",
       "    </tr>\n",
       "    <tr>\n",
       "      <th>6</th>\n",
       "      <td>162527665</td>\n",
       "      <td>name</td>\n",
       "      <td>鹫峰中心景区</td>\n",
       "      <td>regular</td>\n",
       "      <td>495</td>\n",
       "    </tr>\n",
       "    <tr>\n",
       "      <th>7</th>\n",
       "      <td>162527633</td>\n",
       "      <td>name</td>\n",
       "      <td>萝芭地景区</td>\n",
       "      <td>regular</td>\n",
       "      <td>488</td>\n",
       "    </tr>\n",
       "    <tr>\n",
       "      <th>8</th>\n",
       "      <td>224831843</td>\n",
       "      <td>en</td>\n",
       "      <td>Border Beijing - Hebei</td>\n",
       "      <td>name</td>\n",
       "      <td>473</td>\n",
       "    </tr>\n",
       "  </tbody>\n",
       "</table>\n",
       "</div>"
      ],
      "text/plain": [
       "          id   key                   value     type  count\n",
       "0  252721309  name                     昌赤路  regular    886\n",
       "1  325387039  name                   109国道  regular    876\n",
       "2  332284197  name                     潭王路  regular    722\n",
       "3   95513225  name                    Y709  regular    706\n",
       "4  162162040  name                   科普探秘游  regular    616\n",
       "5  210697460  name                     红大路  regular    562\n",
       "6  162527665  name                  鹫峰中心景区  regular    495\n",
       "7  162527633  name                   萝芭地景区  regular    488\n",
       "8  224831843    en  Border Beijing - Hebei     name    473"
      ]
     },
     "metadata": {},
     "output_type": "display_data"
    }
   ],
   "source": [
    "q = '''\n",
    "select ways_tags.*, top.count from\n",
    "    (select id, count(*) as count from\n",
    "    ways_nodes\n",
    "    group by ways_nodes.id\n",
    "    order by count desc\n",
    "    limit 10) as top\n",
    "    left join ways_tags\n",
    "    on ways_tags.id = top.id\n",
    "    where ways_tags.key='en' or ways_tags.key='name' or ways_tags.type='name'\n",
    "'''\n",
    "top_ways = query_df(cur, q)\n",
    "print \"Top 10 longest way by number of nodes\"\n",
    "display(top_ways)"
   ]
  },
  {
   "cell_type": "markdown",
   "metadata": {},
   "source": [
    "### Additional Ideas\n",
    "- Due to limitation of time and resources, the following ideas will be left for future study.\n",
    "\n",
    "- Visualization on 2-D map is a perfect way to investigate map data, it will enable the geography information and insights that can only be naturally conveyed in 3-D forms.\n",
    "- For implementation, we could use the help of [The Matplotlib Basemap Toolkit](http://matplotlib.org/basemap/users/examples.html) or [Google Map API](https://developers.google.com/maps/), we will mostly rely on the latitude, longitude, and tags to fetch API and make plots.\n",
    "\n",
    "#### Benefits\n",
    "- Visualization on 2-D will enable us to explore the data in flexible and impressive ways, for example\n",
    "    - Heat map for nodes distribution, traffic intensity (by way crossing)\n",
    "    - Diagram and coutour of ways that enable navigations.\n",
    "    - Detailed investigation on 2-D map for various topics, public transportation, tours, public facilities, shopping, etc.\n",
    "\n",
    "#### Anticipated Problems\n",
    "- The most possible problem would be conflictiton between OpenStreetMap data and the internal data of map API we use, due to differenc of data quality in either one of them.\n",
    "- To overcome that, we could combine serveral API or data source to cross validate our data."
   ]
  },
  {
   "cell_type": "markdown",
   "metadata": {},
   "source": [
    "## Conclusion\n",
    "In this report, we investigate a map dataset using various data wrangling methods, such as data audit, data cleaning, and data manupulation in different forms like `XML`, `CSV`, and `SQL`.\n",
    "\n",
    "The map data shows the importance and challenges of data wrangling. Map data is ready for investigation only after we audit and clean the data for validity, completeness and accuracy.\n",
    "\n",
    "The distribution of map nodes and ways shows patterns that conform to common sense."
   ]
  }
 ],
 "metadata": {
  "anaconda-cloud": {},
  "kernelspec": {
   "display_name": "Python [Root]",
   "language": "python",
   "name": "Python [Root]"
  },
  "language_info": {
   "codemirror_mode": {
    "name": "ipython",
    "version": 2
   },
   "file_extension": ".py",
   "mimetype": "text/x-python",
   "name": "python",
   "nbconvert_exporter": "python",
   "pygments_lexer": "ipython2",
   "version": "2.7.12"
  }
 },
 "nbformat": 4,
 "nbformat_minor": 0
}
